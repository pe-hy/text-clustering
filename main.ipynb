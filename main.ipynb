{
 "cells": [
  {
   "cell_type": "code",
   "execution_count": null,
   "metadata": {},
   "outputs": [],
   "source": [
    "%env CUDA_DEVICE_ORDER=PCI_BUS_ID\n",
    "%env CUDA_VISIBLE_DEVICES=0"
   ]
  },
  {
   "cell_type": "code",
   "execution_count": null,
   "metadata": {},
   "outputs": [],
   "source": [
    "from src.text_clustering import ClusterClassifier\n",
    "from datasets import load_dataset\n",
    "import matplotlib.pyplot as plt\n",
    "SAMPLE = 100_000\n",
    "\n",
    "texts = load_dataset(\"roneneldan/TinyStories\", split=\"train\").select(range(SAMPLE))[\"text\"]\n",
    "\n",
    "cc = ClusterClassifier(embed_device=\"cuda\")\n",
    "\n",
    "# run the pipeline:\n",
    "embs, labels, summaries = cc.fit(texts)\n",
    "\n",
    "# show the results\n",
    "cc.show()\n",
    "# save \n",
    "cc.save(\"./cc_100k\")"
   ]
  },
  {
   "cell_type": "code",
   "execution_count": null,
   "metadata": {},
   "outputs": [],
   "source": [
    "cc.load(\"./cc_100k\")\n",
    "cc.show()"
   ]
  },
  {
   "cell_type": "code",
   "execution_count": null,
   "metadata": {},
   "outputs": [],
   "source": []
  }
 ],
 "metadata": {
  "kernelspec": {
   "display_name": "petr-llama",
   "language": "python",
   "name": "python3"
  },
  "language_info": {
   "codemirror_mode": {
    "name": "ipython",
    "version": 3
   },
   "file_extension": ".py",
   "mimetype": "text/x-python",
   "name": "python",
   "nbconvert_exporter": "python",
   "pygments_lexer": "ipython3",
   "version": "3.11.9"
  }
 },
 "nbformat": 4,
 "nbformat_minor": 2
}
